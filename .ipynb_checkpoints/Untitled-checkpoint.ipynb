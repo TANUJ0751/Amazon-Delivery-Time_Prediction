{
 "cells": [
  {
   "cell_type": "code",
   "execution_count": 2,
   "id": "fcd7b329-15f5-4964-a0d4-88c111c563f7",
   "metadata": {},
   "outputs": [],
   "source": [
    "import warnings\n",
    "warnings.filterwarnings('ignore')\n",
    "\n",
    "\n",
    "import os\n",
    "from pathlib import Path\n",
    "\n",
    "\n",
    "import numpy as np\n",
    "import pandas as pd\n",
    "\n",
    "\n",
    "import matplotlib.pyplot as plt\n",
    "import seaborn as sns\n",
    "\n",
    "\n",
    "from sklearn.model_selection import train_test_split, GridSearchCV\n",
    "from sklearn.preprocessing import OneHotEncoder, StandardScaler\n",
    "from sklearn.compose import ColumnTransformer\n",
    "from sklearn.pipeline import Pipeline\n",
    "from sklearn.impute import SimpleImputer\n",
    "from sklearn.metrics import mean_squared_error, mean_absolute_error, r2_score\n",
    "\n",
    "\n",
    "from sklearn.linear_model import LinearRegression\n",
    "from sklearn.ensemble import RandomForestRegressor\n",
    "\n",
    "\n",
    "import joblib"
   ]
  },
  {
   "cell_type": "code",
   "execution_count": 3,
   "id": "8bd832a7-5c4f-4c18-911a-14a218c7c92b",
   "metadata": {},
   "outputs": [
    {
     "name": "stdout",
     "output_type": "stream",
     "text": [
      "xgboost available: True\n",
      "mlflow available: True\n"
     ]
    }
   ],
   "source": [
    "# Try to import xgboost\n",
    "try:\n",
    "    import xgboost as xgb\n",
    "    _HAS_XGB = True\n",
    "except Exception:\n",
    "    _HAS_XGB = False\n",
    "\n",
    "\n",
    "# Try to import mlflow\n",
    "try:\n",
    "    import mlflow\n",
    "    import mlflow.sklearn\n",
    "    _HAS_MLFLOW = True\n",
    "except Exception:\n",
    "    _HAS_MLFLOW = False\n",
    "\n",
    "\n",
    "print('xgboost available:', _HAS_XGB)\n",
    "print('mlflow available:', _HAS_MLFLOW)"
   ]
  },
  {
   "cell_type": "code",
   "execution_count": 4,
   "id": "8d5e2878-7b64-43eb-8732-863de6c0f4c5",
   "metadata": {},
   "outputs": [
    {
     "name": "stdout",
     "output_type": "stream",
     "text": [
      "Loaded dataset with shape: (43739, 16)\n"
     ]
    },
    {
     "data": {
      "text/html": [
       "<div>\n",
       "<style scoped>\n",
       "    .dataframe tbody tr th:only-of-type {\n",
       "        vertical-align: middle;\n",
       "    }\n",
       "\n",
       "    .dataframe tbody tr th {\n",
       "        vertical-align: top;\n",
       "    }\n",
       "\n",
       "    .dataframe thead th {\n",
       "        text-align: right;\n",
       "    }\n",
       "</style>\n",
       "<table border=\"1\" class=\"dataframe\">\n",
       "  <thead>\n",
       "    <tr style=\"text-align: right;\">\n",
       "      <th></th>\n",
       "      <th>Order_ID</th>\n",
       "      <th>Agent_Age</th>\n",
       "      <th>Agent_Rating</th>\n",
       "      <th>Store_Latitude</th>\n",
       "      <th>Store_Longitude</th>\n",
       "      <th>Drop_Latitude</th>\n",
       "      <th>Drop_Longitude</th>\n",
       "      <th>Order_Date</th>\n",
       "      <th>Order_Time</th>\n",
       "      <th>Pickup_Time</th>\n",
       "      <th>Weather</th>\n",
       "      <th>Traffic</th>\n",
       "      <th>Vehicle</th>\n",
       "      <th>Area</th>\n",
       "      <th>Delivery_Time</th>\n",
       "      <th>Category</th>\n",
       "    </tr>\n",
       "  </thead>\n",
       "  <tbody>\n",
       "    <tr>\n",
       "      <th>0</th>\n",
       "      <td>ialx566343618</td>\n",
       "      <td>37</td>\n",
       "      <td>4.9</td>\n",
       "      <td>22.745049</td>\n",
       "      <td>75.892471</td>\n",
       "      <td>22.765049</td>\n",
       "      <td>75.912471</td>\n",
       "      <td>2022-03-19</td>\n",
       "      <td>11:30:00</td>\n",
       "      <td>11:45:00</td>\n",
       "      <td>Sunny</td>\n",
       "      <td>High</td>\n",
       "      <td>motorcycle</td>\n",
       "      <td>Urban</td>\n",
       "      <td>120</td>\n",
       "      <td>Clothing</td>\n",
       "    </tr>\n",
       "    <tr>\n",
       "      <th>1</th>\n",
       "      <td>akqg208421122</td>\n",
       "      <td>34</td>\n",
       "      <td>4.5</td>\n",
       "      <td>12.913041</td>\n",
       "      <td>77.683237</td>\n",
       "      <td>13.043041</td>\n",
       "      <td>77.813237</td>\n",
       "      <td>2022-03-25</td>\n",
       "      <td>19:45:00</td>\n",
       "      <td>19:50:00</td>\n",
       "      <td>Stormy</td>\n",
       "      <td>Jam</td>\n",
       "      <td>scooter</td>\n",
       "      <td>Metropolitian</td>\n",
       "      <td>165</td>\n",
       "      <td>Electronics</td>\n",
       "    </tr>\n",
       "    <tr>\n",
       "      <th>2</th>\n",
       "      <td>njpu434582536</td>\n",
       "      <td>23</td>\n",
       "      <td>4.4</td>\n",
       "      <td>12.914264</td>\n",
       "      <td>77.678400</td>\n",
       "      <td>12.924264</td>\n",
       "      <td>77.688400</td>\n",
       "      <td>2022-03-19</td>\n",
       "      <td>08:30:00</td>\n",
       "      <td>08:45:00</td>\n",
       "      <td>Sandstorms</td>\n",
       "      <td>Low</td>\n",
       "      <td>motorcycle</td>\n",
       "      <td>Urban</td>\n",
       "      <td>130</td>\n",
       "      <td>Sports</td>\n",
       "    </tr>\n",
       "    <tr>\n",
       "      <th>3</th>\n",
       "      <td>rjto796129700</td>\n",
       "      <td>38</td>\n",
       "      <td>4.7</td>\n",
       "      <td>11.003669</td>\n",
       "      <td>76.976494</td>\n",
       "      <td>11.053669</td>\n",
       "      <td>77.026494</td>\n",
       "      <td>2022-04-05</td>\n",
       "      <td>18:00:00</td>\n",
       "      <td>18:10:00</td>\n",
       "      <td>Sunny</td>\n",
       "      <td>Medium</td>\n",
       "      <td>motorcycle</td>\n",
       "      <td>Metropolitian</td>\n",
       "      <td>105</td>\n",
       "      <td>Cosmetics</td>\n",
       "    </tr>\n",
       "    <tr>\n",
       "      <th>4</th>\n",
       "      <td>zguw716275638</td>\n",
       "      <td>32</td>\n",
       "      <td>4.6</td>\n",
       "      <td>12.972793</td>\n",
       "      <td>80.249982</td>\n",
       "      <td>13.012793</td>\n",
       "      <td>80.289982</td>\n",
       "      <td>2022-03-26</td>\n",
       "      <td>13:30:00</td>\n",
       "      <td>13:45:00</td>\n",
       "      <td>Cloudy</td>\n",
       "      <td>High</td>\n",
       "      <td>scooter</td>\n",
       "      <td>Metropolitian</td>\n",
       "      <td>150</td>\n",
       "      <td>Toys</td>\n",
       "    </tr>\n",
       "  </tbody>\n",
       "</table>\n",
       "</div>"
      ],
      "text/plain": [
       "        Order_ID  Agent_Age  Agent_Rating  Store_Latitude  Store_Longitude  \\\n",
       "0  ialx566343618         37           4.9       22.745049        75.892471   \n",
       "1  akqg208421122         34           4.5       12.913041        77.683237   \n",
       "2  njpu434582536         23           4.4       12.914264        77.678400   \n",
       "3  rjto796129700         38           4.7       11.003669        76.976494   \n",
       "4  zguw716275638         32           4.6       12.972793        80.249982   \n",
       "\n",
       "   Drop_Latitude  Drop_Longitude  Order_Date Order_Time Pickup_Time  \\\n",
       "0      22.765049       75.912471  2022-03-19   11:30:00    11:45:00   \n",
       "1      13.043041       77.813237  2022-03-25   19:45:00    19:50:00   \n",
       "2      12.924264       77.688400  2022-03-19   08:30:00    08:45:00   \n",
       "3      11.053669       77.026494  2022-04-05   18:00:00    18:10:00   \n",
       "4      13.012793       80.289982  2022-03-26   13:30:00    13:45:00   \n",
       "\n",
       "      Weather  Traffic      Vehicle            Area  Delivery_Time  \\\n",
       "0       Sunny    High   motorcycle           Urban             120   \n",
       "1      Stormy     Jam      scooter   Metropolitian             165   \n",
       "2  Sandstorms     Low   motorcycle           Urban             130   \n",
       "3       Sunny  Medium   motorcycle   Metropolitian             105   \n",
       "4      Cloudy    High      scooter   Metropolitian             150   \n",
       "\n",
       "      Category  \n",
       "0     Clothing  \n",
       "1  Electronics  \n",
       "2       Sports  \n",
       "3    Cosmetics  \n",
       "4         Toys  "
      ]
     },
     "metadata": {},
     "output_type": "display_data"
    }
   ],
   "source": [
    "DATA_PATH = Path('amazon_delivery.csv')\n",
    "if not DATA_PATH.exists():\n",
    "    print('Warning: amazon_delivery.csv not found in current directory. Please place the dataset here and re-run.')\n",
    "else:\n",
    "    df = pd.read_csv(DATA_PATH)\n",
    "    print('Loaded dataset with shape:', df.shape)\n",
    "    display(df.head())"
   ]
  },
  {
   "cell_type": "code",
   "execution_count": 5,
   "id": "c2879a65-1ef6-48e9-bc74-bdbeccbccbc0",
   "metadata": {},
   "outputs": [],
   "source": [
    "if 'df' not in globals():\n",
    "    print('Creating example dataframe (dummy) to demonstrate the pipeline. Replace with your real CSV file.')\n",
    "    n = 2000\n",
    "    rng = np.random.default_rng(42)\n",
    "    df = pd.DataFrame({\n",
    "        'Order_ID': np.arange(n),\n",
    "        'Agent_Age': rng.integers(20, 50, n),\n",
    "        'Agent_Rating': np.round(rng.uniform(3.0, 5.0, n), 1),\n",
    "        'Store_Latitude': rng.uniform(12.8, 13.1, n),\n",
    "        'Store_Longitude': rng.uniform(77.5, 77.8, n),\n",
    "        'Drop_Latitude': rng.uniform(12.7, 13.2, n),\n",
    "        'Drop_Longitude': rng.uniform(77.4, 78.0, n),\n",
    "        'Order_Date': pd.date_range('2024-01-01', periods=n, freq='H').date,\n",
    "        'Order_Time': pd.date_range('2024-01-01', periods=n, freq='H').time,\n",
    "        'Pickup_Time': pd.date_range('2024-01-01 00:10', periods=n, freq='H').time,\n",
    "        'Weather': rng.choice(['Clear', 'Rain', 'Cloudy', 'Storm'], n),\n",
    "        'Traffic': rng.choice(['Low', 'Medium', 'High'], n),\n",
    "        'Vehicle': rng.choice(['Bike', 'Car', 'Van'], n),\n",
    "        'Area': rng.choice(['Urban', 'Metropolitan', 'Suburban'], n),\n",
    "        'Delivery_Time': np.round(rng.normal(1.2, 0.5, n).clip(0.2, None), 2),\n",
    "        'Category': rng.choice(['Electronics', 'Clothing', 'Grocery', 'Home'], n)\n",
    "        })\n",
    "    print('Dummy dataframe created with shape', df.shape)"
   ]
  },
  {
   "cell_type": "code",
   "execution_count": 6,
   "id": "392a0285-11da-4008-bcad-25eb2ea7c8a4",
   "metadata": {},
   "outputs": [
    {
     "name": "stdout",
     "output_type": "stream",
     "text": [
      "\n",
      "Data info:\n",
      "<class 'pandas.core.frame.DataFrame'>\n",
      "RangeIndex: 43739 entries, 0 to 43738\n",
      "Data columns (total 16 columns):\n",
      " #   Column           Non-Null Count  Dtype  \n",
      "---  ------           --------------  -----  \n",
      " 0   Order_ID         43739 non-null  object \n",
      " 1   Agent_Age        43739 non-null  int64  \n",
      " 2   Agent_Rating     43685 non-null  float64\n",
      " 3   Store_Latitude   43739 non-null  float64\n",
      " 4   Store_Longitude  43739 non-null  float64\n",
      " 5   Drop_Latitude    43739 non-null  float64\n",
      " 6   Drop_Longitude   43739 non-null  float64\n",
      " 7   Order_Date       43739 non-null  object \n",
      " 8   Order_Time       43739 non-null  object \n",
      " 9   Pickup_Time      43739 non-null  object \n",
      " 10  Weather          43648 non-null  object \n",
      " 11  Traffic          43739 non-null  object \n",
      " 12  Vehicle          43739 non-null  object \n",
      " 13  Area             43739 non-null  object \n",
      " 14  Delivery_Time    43739 non-null  int64  \n",
      " 15  Category         43739 non-null  object \n",
      "dtypes: float64(5), int64(2), object(9)\n",
      "memory usage: 5.3+ MB\n",
      "\n",
      "Missing values per column:\n",
      "Order_ID            0\n",
      "Agent_Age           0\n",
      "Agent_Rating       54\n",
      "Store_Latitude      0\n",
      "Store_Longitude     0\n",
      "Drop_Latitude       0\n",
      "Drop_Longitude      0\n",
      "Order_Date          0\n",
      "Order_Time          0\n",
      "Pickup_Time         0\n",
      "Weather            91\n",
      "Traffic             0\n",
      "Vehicle             0\n",
      "Area                0\n",
      "Delivery_Time       0\n",
      "Category            0\n",
      "dtype: int64\n"
     ]
    }
   ],
   "source": [
    "print('\\nData info:')\n",
    "df.info()\n",
    "print('\\nMissing values per column:')\n",
    "print(df.isna().sum())"
   ]
  },
  {
   "cell_type": "code",
   "execution_count": 7,
   "id": "6c567d29-a527-4627-b5ea-599ece3411cc",
   "metadata": {},
   "outputs": [],
   "source": [
    "from math import radians, cos, sin, asin, sqrt\n",
    "\n",
    "\n",
    "def haversine(lat1, lon1, lat2, lon2):\n",
    "    # convert decimal degrees to radians\n",
    "    lat1, lon1, lat2, lon2 = map(radians, [lat1, lon1, lat2, lon2])\n",
    "    dlat = lat2 - lat1\n",
    "    dlon = lon2 - lon1\n",
    "    a = sin(dlat/2)**2 + cos(lat1) * cos(lat2) * sin(dlon/2)**2\n",
    "    c = 2 * asin(sqrt(a))\n",
    "    km = 6371 * c\n",
    "    return km"
   ]
  },
  {
   "cell_type": "code",
   "execution_count": 8,
   "id": "13382b7a-804d-48a7-8dcf-84835aa368d7",
   "metadata": {},
   "outputs": [],
   "source": [
    "if {'Store_Latitude','Store_Longitude','Drop_Latitude','Drop_Longitude'}.issubset(df.columns):\n",
    "    df['distance_km'] = df.apply(lambda row: haversine(row['Store_Latitude'], row['Store_Longitude'],\n",
    "    row['Drop_Latitude'], row['Drop_Longitude']), axis=1)\n",
    "else:\n",
    "    df['distance_km'] = np.nan"
   ]
  },
  {
   "cell_type": "code",
   "execution_count": 9,
   "id": "1c4cd883-ef66-40b4-8189-83ffb6989b0a",
   "metadata": {},
   "outputs": [],
   "source": [
    "if 'Order_Date' in df.columns and 'Order_Time' in df.columns:\n",
    "    # combine\n",
    "    try:\n",
    "        df['order_datetime'] = pd.to_datetime(df['Order_Date'].astype(str) + ' ' + df['Order_Time'].astype(str))\n",
    "    except Exception:\n",
    "        df['order_datetime'] = pd.to_datetime(df.get('Order_Date', pd.NaT))\n",
    "    df['order_hour'] = df['order_datetime'].dt.hour\n",
    "    df['order_dayofweek'] = df['order_datetime'].dt.dayofweek\n",
    "else:\n",
    "    df['order_hour'] = np.nan\n",
    "    df['order_dayofweek'] = np.nan"
   ]
  },
  {
   "cell_type": "code",
   "execution_count": 10,
   "id": "70daa3eb-c440-45c2-bd10-3db9fb5d0dca",
   "metadata": {},
   "outputs": [],
   "source": [
    "if 'Pickup_Time' in df.columns and 'Order_Time' in df.columns:\n",
    "    try:\n",
    "        df['pickup_datetime'] = pd.to_datetime(df['Order_Date'].astype(str) + ' ' + df['Pickup_Time'].astype(str))\n",
    "        df['pickup_delay_mins'] = (df['pickup_datetime'] - df['order_datetime']).dt.total_seconds() / 60.0\n",
    "    except Exception:\n",
    "        df['pickup_delay_mins'] = np.nan\n",
    "else:\n",
    "    df['pickup_delay_mins'] = np.nan"
   ]
  },
  {
   "cell_type": "code",
   "execution_count": 11,
   "id": "a61fe857-10d4-4fb0-8336-c18bf981103c",
   "metadata": {},
   "outputs": [
    {
     "name": "stdout",
     "output_type": "stream",
     "text": [
      "\n",
      "Sample of feature-engineered columns:\n"
     ]
    },
    {
     "data": {
      "text/html": [
       "<div>\n",
       "<style scoped>\n",
       "    .dataframe tbody tr th:only-of-type {\n",
       "        vertical-align: middle;\n",
       "    }\n",
       "\n",
       "    .dataframe tbody tr th {\n",
       "        vertical-align: top;\n",
       "    }\n",
       "\n",
       "    .dataframe thead th {\n",
       "        text-align: right;\n",
       "    }\n",
       "</style>\n",
       "<table border=\"1\" class=\"dataframe\">\n",
       "  <thead>\n",
       "    <tr style=\"text-align: right;\">\n",
       "      <th></th>\n",
       "      <th>distance_km</th>\n",
       "      <th>order_hour</th>\n",
       "      <th>order_dayofweek</th>\n",
       "      <th>pickup_delay_mins</th>\n",
       "    </tr>\n",
       "  </thead>\n",
       "  <tbody>\n",
       "    <tr>\n",
       "      <th>0</th>\n",
       "      <td>3.025149</td>\n",
       "      <td>0</td>\n",
       "      <td>5</td>\n",
       "      <td>705.0</td>\n",
       "    </tr>\n",
       "    <tr>\n",
       "      <th>1</th>\n",
       "      <td>20.183530</td>\n",
       "      <td>0</td>\n",
       "      <td>4</td>\n",
       "      <td>1190.0</td>\n",
       "    </tr>\n",
       "    <tr>\n",
       "      <th>2</th>\n",
       "      <td>1.552758</td>\n",
       "      <td>0</td>\n",
       "      <td>5</td>\n",
       "      <td>525.0</td>\n",
       "    </tr>\n",
       "    <tr>\n",
       "      <th>3</th>\n",
       "      <td>7.790401</td>\n",
       "      <td>0</td>\n",
       "      <td>1</td>\n",
       "      <td>1090.0</td>\n",
       "    </tr>\n",
       "    <tr>\n",
       "      <th>4</th>\n",
       "      <td>6.210138</td>\n",
       "      <td>0</td>\n",
       "      <td>5</td>\n",
       "      <td>825.0</td>\n",
       "    </tr>\n",
       "  </tbody>\n",
       "</table>\n",
       "</div>"
      ],
      "text/plain": [
       "   distance_km  order_hour  order_dayofweek  pickup_delay_mins\n",
       "0     3.025149           0                5              705.0\n",
       "1    20.183530           0                4             1190.0\n",
       "2     1.552758           0                5              525.0\n",
       "3     7.790401           0                1             1090.0\n",
       "4     6.210138           0                5              825.0"
      ]
     },
     "metadata": {},
     "output_type": "display_data"
    }
   ],
   "source": [
    "if 'Traffic' in df.columns:\n",
    "    df['traffic_level'] = df['Traffic'].astype(str).str.title()\n",
    "if 'Weather' in df.columns:\n",
    "    df['weather'] = df['Weather'].astype(str).str.title()\n",
    "\n",
    "\n",
    "print('\\nSample of feature-engineered columns:')\n",
    "display(df[['distance_km','order_hour','order_dayofweek','pickup_delay_mins']].head())"
   ]
  },
  {
   "cell_type": "code",
   "execution_count": 12,
   "id": "4f4475f0-e1d6-4cbe-8a1b-7aef2001d9a8",
   "metadata": {},
   "outputs": [
    {
     "data": {
      "image/png": "[encoded data removed]",
      "text/plain": [
       "<Figure size 800x400 with 1 Axes>"
      ]
     },
     "metadata": {},
     "output_type": "display_data"
    }
   ],
   "source": [
    "\n",
    "# %% [markdown]\n",
    "# ## 4) Exploratory Data Analysis (basic plots)\n",
    "\n",
    "# %%\n",
    "plt.figure(figsize=(8,4))\n",
    "plt.hist(df['Delivery_Time'].dropna(), bins=40)\n",
    "plt.title('Distribution of Delivery Time (hours)')\n",
    "plt.xlabel('Hours')\n",
    "plt.ylabel('Count')\n",
    "plt.show()"
   ]
  },
  {
   "cell_type": "code",
   "execution_count": 13,
   "id": "aa06d828-2a19-498c-a104-3247da978caa",
   "metadata": {},
   "outputs": [
    {
     "data": {
      "image/png": "[encoded data removed]",
      "text/plain": [
       "<Figure size 800x500 with 1 Axes>"
      ]
     },
     "metadata": {},
     "output_type": "display_data"
    }
   ],
   "source": [
    "# Distance vs Delivery time\n",
    "plt.figure(figsize=(8,5))\n",
    "sns.scatterplot(data=df.sample(min(2000,len(df))), x='distance_km', y='Delivery_Time')\n",
    "plt.title('Distance vs Delivery Time')\n",
    "plt.show()"
   ]
  },
  {
   "cell_type": "code",
   "execution_count": 14,
   "id": "ca855243-159e-4612-8683-04102125ec72",
   "metadata": {},
   "outputs": [
    {
     "data": {
      "image/png": "[encoded data removed]",
      "text/plain": [
       "<Figure size 800x400 with 1 Axes>"
      ]
     },
     "metadata": {},
     "output_type": "display_data"
    }
   ],
   "source": [
    "\n",
    "# Delivery time by traffic\n",
    "if 'traffic_level' in df.columns:\n",
    "    plt.figure(figsize=(8,4))\n",
    "    sns.boxplot(x='traffic_level', y='Delivery_Time', data=df)\n",
    "    plt.title('Delivery Time by Traffic Level')\n",
    "    plt.show()"
   ]
  },
  {
   "cell_type": "code",
   "execution_count": 15,
   "id": "bb3ba17d-ced7-4380-936e-2d10df84293f",
   "metadata": {},
   "outputs": [],
   "source": [
    "\n",
    "\n",
    "# %% [markdown]\n",
    "# ## 5) Preprocessing pipeline (numeric + categorical)\n",
    "\n",
    "# %%\n",
    "# Select features and target\n",
    "target = 'Delivery_Time'\n",
    "all_features = ['Agent_Age','Agent_Rating','distance_km','order_hour','order_dayofweek','pickup_delay_mins',\n",
    "                'weather','traffic_level','Vehicle','Area','Category']"
   ]
  },
  {
   "cell_type": "code",
   "execution_count": 16,
   "id": "64de7167-73a0-40e0-b4c6-541111f1cc85",
   "metadata": {},
   "outputs": [
    {
     "name": "stdout",
     "output_type": "stream",
     "text": [
      "Using features: ['Agent_Age', 'Agent_Rating', 'distance_km', 'order_hour', 'order_dayofweek', 'pickup_delay_mins', 'weather', 'traffic_level', 'Vehicle', 'Area', 'Category']\n"
     ]
    }
   ],
   "source": [
    "\n",
    "# Keep only columns that exist\n",
    "features = [f for f in all_features if f in df.columns]\n",
    "print('Using features:', features)\n",
    "\n",
    "X = df[features].copy()\n",
    "y = df[target].copy()"
   ]
  },
  {
   "cell_type": "code",
   "execution_count": 17,
   "id": "e9c8287a-bf12-4860-9da5-59ca9d1ee2b6",
   "metadata": {},
   "outputs": [
    {
     "name": "stdout",
     "output_type": "stream",
     "text": [
      "Train shape: (34991, 11) Test shape: (8748, 11)\n"
     ]
    }
   ],
   "source": [
    "# Train-test split (dropna for target)\n",
    "mask = y.notna()\n",
    "X = X[mask]\n",
    "y = y[mask]\n",
    "\n",
    "X_train, X_test, y_train, y_test = train_test_split(X, y, test_size=0.2, random_state=42)\n",
    "print('Train shape:', X_train.shape, 'Test shape:', X_test.shape)"
   ]
  },
  {
   "cell_type": "code",
   "execution_count": 18,
   "id": "eaa98ffd-5988-4b95-9c74-bdcc235f06d4",
   "metadata": {},
   "outputs": [],
   "source": [
    "# Define column types\n",
    "numeric_features = [c for c in features if c in ['Agent_Age','Agent_Rating','distance_km','order_hour','order_dayofweek','pickup_delay_mins']]\n",
    "cat_features = [c for c in features if c not in numeric_features]\n",
    "\n",
    "numeric_transformer = Pipeline(steps=[\n",
    "    ('imputer', SimpleImputer(strategy='median')),\n",
    "    ('scaler', StandardScaler())\n",
    "])\n",
    "\n",
    "categorical_transformer = Pipeline(steps=[\n",
    "    ('imputer', SimpleImputer(strategy='most_frequent')),\n",
    "    ('onehot', OneHotEncoder(handle_unknown='ignore'))\n",
    "])\n",
    "\n",
    "preprocessor = ColumnTransformer(\n",
    "    transformers=[\n",
    "        ('num', numeric_transformer, numeric_features),\n",
    "        ('cat', categorical_transformer, cat_features)\n",
    "    ])"
   ]
  },
  {
   "cell_type": "code",
   "execution_count": 19,
   "id": "15743364-6930-41f0-8c98-02c624ab9f90",
   "metadata": {},
   "outputs": [],
   "source": [
    "# %% [markdown]\n",
    "# ## 6) Baseline models in pipelines: Linear Regression, RandomForest, XGBoost (if available)\n",
    "\n",
    "# %%\n",
    "# Linear Regression pipeline\n",
    "lr_pipe = Pipeline(steps=[('preproc', preprocessor), ('reg', LinearRegression())])\n",
    "\n",
    "# Random Forest pipeline\n",
    "rf_pipe = Pipeline(steps=[('preproc', preprocessor), ('reg', RandomForestRegressor(random_state=42, n_jobs=-1))])\n",
    "\n",
    "models = {\n",
    "    'LinearRegression': lr_pipe,\n",
    "    'RandomForest': rf_pipe\n",
    "}\n"
   ]
  },
  {
   "cell_type": "code",
   "execution_count": 20,
   "id": "2613886c-9e10-4cf2-9613-c9f64082b00c",
   "metadata": {},
   "outputs": [],
   "source": [
    "if _HAS_XGB:\n",
    "    xgb_pipe = Pipeline(steps=[('preproc', preprocessor), ('reg', xgb.XGBRegressor(objective='reg:squarederror', random_state=42, n_jobs=4))])\n",
    "    models['XGBoost'] = xgb_pipe\n"
   ]
  },
  {
   "cell_type": "code",
   "execution_count": 22,
   "id": "ce65b17b-964c-45d1-b358-f4aa2de13255",
   "metadata": {},
   "outputs": [
    {
     "name": "stdout",
     "output_type": "stream",
     "text": [
      "\n",
      "Training LinearRegression\n",
      "LinearRegression {'rmse': 33.21337075337189, 'mae': 26.15155339164192, 'r2': 0.5859032635108176}\n",
      "\n",
      "Training RandomForest\n",
      "RandomForest {'rmse': 22.37593190872108, 'mae': 17.1619890260631, 'r2': 0.8120518027206264}\n",
      "\n",
      "Training XGBoost\n",
      "XGBoost {'rmse': 22.42291550830485, 'mae': 17.487701416015625, 'r2': 0.8112617135047913}\n"
     ]
    }
   ],
   "source": [
    "# Quick training function\n",
    "\n",
    "def evaluate_model(pipe, X_train, y_train, X_test, y_test):\n",
    "    pipe.fit(X_train, y_train)\n",
    "    preds = pipe.predict(X_test)\n",
    "    mse = mean_squared_error(y_test, preds)\n",
    "    rmse = mse ** 0.5\n",
    "    mae = mean_absolute_error(y_test, preds)\n",
    "    r2 = r2_score(y_test, preds)\n",
    "    return {'rmse': rmse, 'mae': mae, 'r2': r2}, preds\n",
    "\n",
    "results = {}\n",
    "for name, pipe in models.items():\n",
    "    print('\\nTraining', name)\n",
    "    res, preds = evaluate_model(pipe, X_train, y_train, X_test, y_test)\n",
    "    results[name] = res\n",
    "    print(name, res)\n"
   ]
  },
  {
   "cell_type": "code",
   "execution_count": 23,
   "id": "39b0faf7-fed1-4151-a539-306bf142a722",
   "metadata": {},
   "outputs": [],
   "source": [
    "# %% [markdown]\n",
    "# ## 7) Model selection + (optional) hyperparameter tuning for RandomForest/XGBoost\n",
    "\n",
    "# %%\n",
    "# Example: simple GridSearch for RandomForest (small grid to keep runtime low)\n",
    "rf_param_grid = {\n",
    "    'reg__n_estimators': [100, 200],\n",
    "    'reg__max_depth': [8, 12]\n",
    "}"
   ]
  },
  {
   "cell_type": "code",
   "execution_count": 24,
   "id": "2e6dba70-8b0c-40e7-82b9-3e168f9c669e",
   "metadata": {},
   "outputs": [
    {
     "name": "stdout",
     "output_type": "stream",
     "text": [
      "Fitting GridSearch for RandomForest...\n",
      "Best RF params: {'reg__max_depth': 12, 'reg__n_estimators': 200}\n",
      "RF best res: {'rmse': 21.529031181395826, 'mae': 16.69060198859598, 'r2': 0.826009765090991}\n"
     ]
    }
   ],
   "source": [
    "rf_search = GridSearchCV(rf_pipe, rf_param_grid, cv=3, n_jobs=-1, scoring='neg_root_mean_squared_error')\n",
    "print('Fitting GridSearch for RandomForest...')\n",
    "rf_search.fit(X_train, y_train)\n",
    "print('Best RF params:', rf_search.best_params_)\n",
    "rf_best = rf_search.best_estimator_\n",
    "rf_best_res, rf_best_preds = evaluate_model(rf_best, X_train, y_train, X_test, y_test)\n",
    "print('RF best res:', rf_best_res)\n",
    "results['RandomForest_tuned'] = rf_best_res"
   ]
  },
  {
   "cell_type": "code",
   "execution_count": 25,
   "id": "36293ca3-6248-41c2-ba2e-b6bf5403d12e",
   "metadata": {},
   "outputs": [
    {
     "name": "stdout",
     "output_type": "stream",
     "text": [
      "Best XGB params: {'reg__max_depth': 6, 'reg__n_estimators': 100}\n",
      "\n",
      "All results:\n",
      "LinearRegression {'rmse': 33.21337075337189, 'mae': 26.15155339164192, 'r2': 0.5859032635108176}\n",
      "RandomForest {'rmse': 22.37593190872108, 'mae': 17.1619890260631, 'r2': 0.8120518027206264}\n",
      "XGBoost {'rmse': 22.42291550830485, 'mae': 17.487701416015625, 'r2': 0.8112617135047913}\n",
      "RandomForest_tuned {'rmse': 21.529031181395826, 'mae': 16.69060198859598, 'r2': 0.826009765090991}\n",
      "XGBoost_tuned {'rmse': 22.42291550830485, 'mae': 17.487701416015625, 'r2': 0.8112617135047913}\n"
     ]
    }
   ],
   "source": [
    "# If XGBoost present, small tuning\n",
    "if _HAS_XGB:\n",
    "    xgb_param_grid = {\n",
    "        'reg__n_estimators': [100, 200],\n",
    "        'reg__max_depth': [3, 6]\n",
    "    }\n",
    "    xgb_search = GridSearchCV(xgb_pipe, xgb_param_grid, cv=3, n_jobs=-1, scoring='neg_root_mean_squared_error')\n",
    "    xgb_search.fit(X_train, y_train)\n",
    "    print('Best XGB params:', xgb_search.best_params_)\n",
    "    xgb_best = xgb_search.best_estimator_\n",
    "    xgb_best_res, xgb_best_preds = evaluate_model(xgb_best, X_train, y_train, X_test, y_test)\n",
    "    results['XGBoost_tuned'] = xgb_best_res\n",
    "\n",
    "print('\\nAll results:')\n",
    "for k,v in results.items():\n",
    "    print(k, v)"
   ]
  },
  {
   "cell_type": "code",
   "execution_count": 26,
   "id": "bf3f8e4f-13dd-4b24-89e6-1298da332347",
   "metadata": {},
   "outputs": [
    {
     "name": "stderr",
     "output_type": "stream",
     "text": [
      "2025/09/21 20:27:17 INFO mlflow.tracking.fluent: Experiment with name 'Amazon_Delivery_Time_Prediction' does not exist. Creating a new experiment.\n",
      "2025/09/21 20:27:19 WARNING mlflow.models.model: `artifact_path` is deprecated. Please use `name` instead.\n",
      "\u001b[31m2025/09/21 20:27:25 WARNING mlflow.models.model: Model logged without a signature and input example. Please set `input_example` parameter when logging the model to auto infer the model signature.\u001b[0m\n"
     ]
    },
    {
     "name": "stdout",
     "output_type": "stream",
     "text": [
      "Logged RF model to MLflow\n"
     ]
    }
   ],
   "source": [
    "# %% [markdown]\n",
    "# ## 8) MLflow logging (optional)\n",
    "\n",
    "# %%\n",
    "if _HAS_MLFLOW:\n",
    "    mlflow.set_experiment('Amazon_Delivery_Time_Prediction')\n",
    "    with mlflow.start_run(run_name='rf_tuned_example'):\n",
    "        # log parameters\n",
    "        mlflow.log_params({\n",
    "            'model': 'RandomForest',\n",
    "            'n_estimators': rf_search.best_params_.get('reg__n_estimators', None),\n",
    "            'max_depth': rf_search.best_params_.get('reg__max_depth', None)\n",
    "        })\n",
    "        # log metrics\n",
    "        for metric_name, val in rf_best_res.items():\n",
    "            mlflow.log_metric(metric_name, val)\n",
    "        # save model\n",
    "        mlflow.sklearn.log_model(rf_best, 'rf_model')\n",
    "        print('Logged RF model to MLflow')\n",
    "else:\n",
    "    print('mlflow not installed; skipping MLflow logging. Install mlflow to enable experiment tracking.')"
   ]
  },
  {
   "cell_type": "code",
   "execution_count": 27,
   "id": "3fc04c10-3585-4e2d-8a8f-bbce50d024dd",
   "metadata": {},
   "outputs": [],
   "source": [
    "# %% [markdown]\n",
    "# ## 9) Save final model and preprocessing objects\n",
    "\n",
    "# %%\n",
    "OUTPUT_DIR = Path('outputs')\n",
    "OUTPUT_DIR.mkdir(exist_ok=True)\n"
   ]
  },
  {
   "cell_type": "code",
   "execution_count": 28,
   "id": "cea10a8a-86ee-4f15-8c72-ad6f64343f24",
   "metadata": {},
   "outputs": [
    {
     "name": "stdout",
     "output_type": "stream",
     "text": [
      "Best model by RMSE: RandomForest_tuned\n",
      "Saved best_model to outputs/best_model.joblib\n"
     ]
    }
   ],
   "source": [
    "# Choose best model based on RMSE among results\n",
    "best_name = min(results.items(), key=lambda x: x[1]['rmse'])[0]\n",
    "print('Best model by RMSE:', best_name)\n",
    "\n",
    "if best_name.startswith('RandomForest'):\n",
    "    best_model = rf_best\n",
    "elif best_name.startswith('XGBoost') and _HAS_XGB:\n",
    "    best_model = xgb_best\n",
    "else:\n",
    "    best_model = models.get('LinearRegression')\n",
    "    best_model.fit(X_train, y_train)\n",
    "\n",
    "joblib.dump(best_model, OUTPUT_DIR / 'best_model.joblib')\n",
    "print('Saved best_model to outputs/best_model.joblib')\n"
   ]
  },
  {
   "cell_type": "code",
   "execution_count": 29,
   "id": "ff080ff5-dafa-4639-a975-1f3819f35b6e",
   "metadata": {},
   "outputs": [],
   "source": [
    "# save preprocessed data sample\n",
    "X_train.head().to_csv(OUTPUT_DIR / 'X_train_sample.csv', index=False)\n"
   ]
  },
  {
   "cell_type": "code",
   "execution_count": 32,
   "id": "800cffe3-eb97-434c-ab17-2c0134dd11f5",
   "metadata": {},
   "outputs": [
    {
     "data": {
      "image/png": "[encoded data removed]",
      "text/plain": [
       "<Figure size 800x600 with 1 Axes>"
      ]
     },
     "metadata": {},
     "output_type": "display_data"
    }
   ],
   "source": [
    "from sklearn.compose import ColumnTransformer\n",
    "import matplotlib.pyplot as plt\n",
    "import numpy as np\n",
    "\n",
    "def safe_feature_names(model, X_train):\n",
    "    \"\"\"Try to extract feature names from pipeline/preprocessor or fall back to DataFrame columns.\"\"\"\n",
    "    if hasattr(model, \"named_steps\"):\n",
    "        if \"preprocessor\" in model.named_steps:   # adjust to your actual step name\n",
    "            preproc = model.named_steps[\"preprocessor\"]\n",
    "            try:\n",
    "                return preproc.get_feature_names_out().tolist()\n",
    "            except Exception:\n",
    "                pass\n",
    "    # Fallback: just use DataFrame columns\n",
    "    return X_train.columns.tolist()\n",
    "\n",
    "\n",
    "def plot_feature_importances(model, X_train, top_n=30):\n",
    "    \"\"\"Plot feature importances if available, with safe feature name handling.\"\"\"\n",
    "    if hasattr(model, \"named_steps\"):\n",
    "        reg = model.named_steps.get(\"regressor\") or model.named_steps.get(\"reg\")\n",
    "    else:\n",
    "        reg = model  # model is not a pipeline\n",
    "\n",
    "    if hasattr(reg, \"feature_importances_\"):\n",
    "        feat_names = safe_feature_names(model, X_train)\n",
    "        importances = reg.feature_importances_\n",
    "\n",
    "        # Align lengths to avoid index errors\n",
    "        n_features = min(len(feat_names), len(importances))\n",
    "        feat_names = feat_names[:n_features]\n",
    "        importances = importances[:n_features]\n",
    "\n",
    "        sorted_idx = np.argsort(importances)[::-1][:top_n]\n",
    "\n",
    "        plt.figure(figsize=(8, 6))\n",
    "        plt.barh([feat_names[i] for i in sorted_idx][::-1],\n",
    "                 importances[sorted_idx][::-1])\n",
    "        plt.title(\"Top Feature Importances\")\n",
    "        plt.show()\n",
    "    else:\n",
    "        print(\"Feature importances not available for this estimator.\")\n",
    "\n",
    "\n",
    "# Usage:\n",
    "plot_feature_importances(best_model, X_train)\n"
   ]
  },
  {
   "cell_type": "code",
   "execution_count": null,
   "id": "4207284d-9586-492e-b4a0-2e30c779e82e",
   "metadata": {},
   "outputs": [],
   "source": []
  }
 ],
 "metadata": {
  "kernelspec": {
   "display_name": "Python (myenv)",
   "language": "python",
   "name": "myenv"
  },
  "language_info": {
   "codemirror_mode": {
    "name": "ipython",
    "version": 3
   },
   "file_extension": ".py",
   "mimetype": "text/x-python",
   "name": "python",
   "nbconvert_exporter": "python",
   "pygments_lexer": "ipython3",
   "version": "3.10.12"
  }
 },
 "nbformat": 4,
 "nbformat_minor": 5
}
